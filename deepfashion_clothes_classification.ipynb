{
  "nbformat": 4,
  "nbformat_minor": 0,
  "metadata": {
    "colab": {
      "provenance": [],
      "private_outputs": true,
      "authorship_tag": "ABX9TyNhpRsPkVQbhB6ODZpWlPry",
      "include_colab_link": true
    },
    "kernelspec": {
      "name": "python3",
      "display_name": "Python 3"
    },
    "language_info": {
      "name": "python"
    },
    "accelerator": "GPU",
    "gpuClass": "standard"
  },
  "cells": [
    {
      "cell_type": "markdown",
      "metadata": {
        "id": "view-in-github",
        "colab_type": "text"
      },
      "source": [
        "<a href=\"https://colab.research.google.com/github/NeurologiaLogic/Artificial-intelligence/blob/main/deepfashion_clothes_classification.ipynb\" target=\"_parent\"><img src=\"https://colab.research.google.com/assets/colab-badge.svg\" alt=\"Open In Colab\"/></a>"
      ]
    },
    {
      "cell_type": "code",
      "execution_count": null,
      "metadata": {
        "id": "maM4ZorgTWa7"
      },
      "outputs": [],
      "source": [
        "import tensorflow as tf\n",
        "import numpy as np\n",
        "import matplotlib.pyplot as plt\n",
        "import os\n",
        "import pandas as pd"
      ]
    },
    {
      "cell_type": "code",
      "source": [
        "#import data\n",
        "!pip install --upgrade --no-cache-dir gdown\n",
        "#images\n",
        "!gdown 1U9YVXRJSYeoW1Jjxw_9CBI0BQUoWVbke\n",
        "#information\n",
        "!gdown 1sXKaWanOFuRzCYrodqYjmBTzCzh35FbY"
      ],
      "metadata": {
        "id": "QnmpWBD7T2mE"
      },
      "execution_count": null,
      "outputs": []
    },
    {
      "cell_type": "code",
      "source": [
        "!unzip information.zip\n",
        "!unzip img"
      ],
      "metadata": {
        "id": "V0jwdalzsdt-"
      },
      "execution_count": null,
      "outputs": []
    },
    {
      "cell_type": "code",
      "source": [
        "#data provided\n",
        "abs_path = './information/Anno_coarse'\n",
        "dataset_path = os.path.join(abs_path,\"list_category_img.txt\")\n",
        "df = pd.read_table(dataset_path, sep=\"\\t\")\n",
        "df[['img_path','category_label']] = df['image_name  category_label'].str.split(expand=True)\n",
        "X = df[\"img_path\"]\n",
        "y= df[\"category_label\"]\n",
        "print(y.nunique())"
      ],
      "metadata": {
        "id": "q1yVj3Um1239"
      },
      "execution_count": null,
      "outputs": []
    },
    {
      "cell_type": "code",
      "source": [
        "#model structure\n",
        "from tensorflow.keras.layers import Flatten,Dense,BatchNormalization,Dropout\n",
        "from tensorflow.keras.applications import EfficientNetV2M\n",
        "from tensorflow.keras import Model\n",
        "\n",
        "#base model\n",
        "base_model = EfficientNetV2M(\n",
        "    include_top=False,\n",
        "    weights=\"imagenet\",\n",
        "    input_shape=(300,300,3)\n",
        ")\n",
        "\n",
        "#example\n",
        "# inputs = tf.keras.Input(shape=(3,))\n",
        "# x = tf.keras.layers.Dense(4, activation=tf.nn.relu)(inputs)\n",
        "# outputs = tf.keras.layers.Dense(5, activation=tf.nn.softmax)(x)\n",
        "# model = tf.keras.Model(inputs=inputs, outputs=outputs)\n",
        "\n",
        "base_model_input = base_model.input\n",
        "base_model_output = base_model.output\n",
        "m = Flatten()(base_model_output)\n",
        "m = Dense(200,activation=tf.nn.relu,name=\"D1\")(m)\n",
        "m = BatchNormalization()(m)\n",
        "m = Dropout(0.01)(m)\n",
        "m = Dense(100,activation=tf.nn.relu,name=\"D2\")(m)\n",
        "final_output_layer = Dense(46,activation=tf.nn.softmax)(m)\n",
        "model = Model(inputs=base_model_input,outputs=final_output_layer)\n",
        "model.summary()"
      ],
      "metadata": {
        "id": "cF92u-16Tprl"
      },
      "execution_count": null,
      "outputs": []
    },
    {
      "cell_type": "code",
      "source": [
        "#freeze training\n",
        "for model_struct in model.layers:\n",
        "  if model_struct.name == \"block7e_project_bn\":\n",
        "    break\n",
        "  model_struct.trainable = False"
      ],
      "metadata": {
        "id": "vGpdtrKn_rUd"
      },
      "execution_count": null,
      "outputs": []
    },
    {
      "cell_type": "code",
      "source": [
        "#checking trainable params after tweak\n",
        "model.summary()"
      ],
      "metadata": {
        "id": "kYJJBmKxA0AL"
      },
      "execution_count": null,
      "outputs": []
    },
    {
      "cell_type": "code",
      "source": [
        "#compiling model\n",
        "model.compile(\n",
        "    optimizer=tf.keras.optimizers.Adam(learning_rate=1e-3),\n",
        "    loss=tf.keras.losses.CategoricalCrossentropy(),)"
      ],
      "metadata": {
        "id": "fbDa2YxT746A"
      },
      "execution_count": null,
      "outputs": []
    },
    {
      "cell_type": "code",
      "source": [
        "#reshaping function \n",
        "from PIL import Image\n",
        "from tensorflow.keras.utils import load_img\n",
        "from numpy import asarray\n",
        "\n",
        "def reshaping(img_path):\n",
        "  return asarray(tf.keras.utils.load_img(img_path).resize((300,300)))"
      ],
      "metadata": {
        "id": "3_3QOwX0R25k"
      },
      "execution_count": null,
      "outputs": []
    },
    {
      "cell_type": "code",
      "source": [
        "#training model\n",
        "from sklearn.model_selection import train_test_split\n",
        "X_train, X_test, y_train, y_test = train_test_split(X, y, test_size=0.20)\n",
        "X_train = [reshaping(image) for image in X_train]\n",
        "X_test = [reshaping(image) for image in X_test]\n",
        "model.fit(X_train,y_train)"
      ],
      "metadata": {
        "id": "VYOugV2L9-nn"
      },
      "execution_count": null,
      "outputs": []
    },
    {
      "cell_type": "code",
      "source": [
        "#test reshaping images\n",
        "# print(X_train[150])\n",
        "# from PIL import Image\n",
        "# from numpy import asarray\n",
        "\n",
        "# img = asarray(Image.open('/content/img/1981_Graphic_Ringer_Tee/img_00000001.jpg'))\n",
        "# print(img.shape,img.size)\n",
        "# img = asarray(Image.open('/content/img/1981_Graphic_Ringer_Tee/img_00000001.jpg').resize((300,300)))\n",
        "# print(img.shape,img.size)"
      ],
      "metadata": {
        "id": "oZNCSlVYPSOh"
      },
      "execution_count": null,
      "outputs": []
    },
    {
      "cell_type": "code",
      "source": [
        "#Evaluate Model\n",
        "from sklearn.metrics import accuracy_score\n",
        "predicted = [model.predict(x_test) for x_test in X_test]\n",
        "# Evaluating the model\n",
        "acc_naive = accuracy_score(y_train,predicted)\n",
        "print(f'model has {acc_naive.round(2)*100}% accuracy')"
      ],
      "metadata": {
        "id": "b5f2bwJc-Bk5"
      },
      "execution_count": null,
      "outputs": []
    },
    {
      "cell_type": "code",
      "source": [
        "#Save model\n",
        "import joblib\n",
        "joblib.dump(model,\"deep_fashion_model.pkl\")"
      ],
      "metadata": {
        "id": "0Igd4JAu-DGV"
      },
      "execution_count": null,
      "outputs": []
    }
  ]
}